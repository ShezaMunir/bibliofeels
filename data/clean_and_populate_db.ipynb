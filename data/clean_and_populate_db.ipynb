{
  "nbformat": 4,
  "nbformat_minor": 0,
  "metadata": {
    "colab": {
      "name": "clean_and_populate_db.ipynb",
      "provenance": []
    },
    "kernelspec": {
      "name": "python3",
      "display_name": "Python 3"
    },
    "language_info": {
      "name": "python"
    }
  },
  "cells": [
    {
      "cell_type": "code",
      "metadata": {
        "id": "8nh-YqELquAf"
      },
      "source": [
        "from google.colab import drive\n",
        "drive.mount('/content/drive')"
      ],
      "execution_count": null,
      "outputs": []
    },
    {
      "cell_type": "code",
      "metadata": {
        "colab": {
          "base_uri": "https://localhost:8080/"
        },
        "id": "oMXI2PjrqwDd",
        "outputId": "01fa8420-a6bf-47d6-e962-ae98fbb68c3a"
      },
      "source": [
        "cd \"/content/drive/MyDrive/mlh-fellowship-hack\""
      ],
      "execution_count": 51,
      "outputs": [
        {
          "output_type": "stream",
          "text": [
            "/content/drive/MyDrive/mlh-fellowship-hack\n"
          ],
          "name": "stdout"
        }
      ]
    },
    {
      "cell_type": "code",
      "metadata": {
        "colab": {
          "base_uri": "https://localhost:8080/"
        },
        "id": "DUI0hRRLsnEC",
        "outputId": "4a89a804-8792-4ec0-ed74-9803995037dc"
      },
      "source": [
        "ls"
      ],
      "execution_count": 52,
      "outputs": [
        {
          "output_type": "stream",
          "text": [
            "\u001b[0m\u001b[01;34mbooksummaries\u001b[0m/        model.py                \u001b[01;34m__pycache__\u001b[0m/\n",
            "booksummaries.tar.gz  multilabel_pipeline.py\n"
          ],
          "name": "stdout"
        }
      ]
    },
    {
      "cell_type": "code",
      "metadata": {
        "colab": {
          "base_uri": "https://localhost:8080/"
        },
        "id": "lPhmbVH2rQsx",
        "outputId": "3f8224f9-7cab-496f-c6d1-14cf0158b371"
      },
      "source": [
        "!pip install ibm_watson"
      ],
      "execution_count": 63,
      "outputs": [
        {
          "output_type": "stream",
          "text": [
            "Requirement already satisfied: ibm_watson in /usr/local/lib/python3.7/dist-packages (5.1.0)\n",
            "Requirement already satisfied: requests<3.0,>=2.0 in /usr/local/lib/python3.7/dist-packages (from ibm_watson) (2.23.0)\n",
            "Requirement already satisfied: python-dateutil>=2.5.3 in /usr/local/lib/python3.7/dist-packages (from ibm_watson) (2.8.1)\n",
            "Requirement already satisfied: ibm-cloud-sdk-core>=3.3.6 in /usr/local/lib/python3.7/dist-packages (from ibm_watson) (3.10.0)\n",
            "Requirement already satisfied: websocket-client==0.48.0 in /usr/local/lib/python3.7/dist-packages (from ibm_watson) (0.48.0)\n",
            "Requirement already satisfied: certifi>=2017.4.17 in /usr/local/lib/python3.7/dist-packages (from requests<3.0,>=2.0->ibm_watson) (2020.12.5)\n",
            "Requirement already satisfied: idna<3,>=2.5 in /usr/local/lib/python3.7/dist-packages (from requests<3.0,>=2.0->ibm_watson) (2.10)\n",
            "Requirement already satisfied: chardet<4,>=3.0.2 in /usr/local/lib/python3.7/dist-packages (from requests<3.0,>=2.0->ibm_watson) (3.0.4)\n",
            "Requirement already satisfied: urllib3!=1.25.0,!=1.25.1,<1.26,>=1.21.1 in /usr/local/lib/python3.7/dist-packages (from requests<3.0,>=2.0->ibm_watson) (1.24.3)\n",
            "Requirement already satisfied: six>=1.5 in /usr/local/lib/python3.7/dist-packages (from python-dateutil>=2.5.3->ibm_watson) (1.15.0)\n",
            "Requirement already satisfied: PyJWT<3.0.0,>=2.0.1 in /usr/local/lib/python3.7/dist-packages (from ibm-cloud-sdk-core>=3.3.6->ibm_watson) (2.1.0)\n"
          ],
          "name": "stdout"
        }
      ]
    },
    {
      "cell_type": "code",
      "metadata": {
        "colab": {
          "base_uri": "https://localhost:8080/"
        },
        "id": "6iL4EOL9rbQy",
        "outputId": "85fa2e04-0803-45b4-c5a2-bd361808e167"
      },
      "source": [
        "!tar xvzf booksummaries.tar.gz"
      ],
      "execution_count": null,
      "outputs": [
        {
          "output_type": "stream",
          "text": [
            "booksummaries/\n",
            "booksummaries/README\n",
            "booksummaries/booksummaries.txt\n"
          ],
          "name": "stdout"
        }
      ]
    },
    {
      "cell_type": "code",
      "metadata": {
        "id": "KiDpR0Rnqrr1"
      },
      "source": [
        "import csv\n",
        "data = []\n",
        "\n",
        "with open(\"booksummaries/booksummaries.txt\", 'r') as f:\n",
        "    reader = csv.reader(f, dialect='excel-tab')\n",
        "    for row in reader:\n",
        "        data.append(row)"
      ],
      "execution_count": 64,
      "outputs": []
    },
    {
      "cell_type": "code",
      "metadata": {
        "colab": {
          "base_uri": "https://localhost:8080/"
        },
        "id": "Fpadj5_gsQOM",
        "outputId": "55c1a6f8-0f89-4974-a36b-5e7582eac09d"
      },
      "source": [
        "len(data)"
      ],
      "execution_count": 65,
      "outputs": [
        {
          "output_type": "execute_result",
          "data": {
            "text/plain": [
              "16559"
            ]
          },
          "metadata": {
            "tags": []
          },
          "execution_count": 65
        }
      ]
    },
    {
      "cell_type": "code",
      "metadata": {
        "colab": {
          "base_uri": "https://localhost:8080/",
          "height": 388
        },
        "id": "OK7J18YpsvQU",
        "outputId": "ee4d4940-5eba-4f5f-a0eb-7654cb7853db"
      },
      "source": [
        "import pandas as pd\n",
        "\n",
        "book_wiki = []\n",
        "book_title = []\n",
        "book_author = []\n",
        "publication_date = []\n",
        "book_genre = []\n",
        "book_summary = []\n",
        "book_img = []\n",
        "for i in data:\n",
        "    book_wiki.append(\"https://en.wikipedia.org/?curid=\"+str(i[0]))\n",
        "    book_title.append(i[2])\n",
        "    book_author.append(i[3])\n",
        "    publication_date.append(i[4])\n",
        "    book_genre.append(i[5])\n",
        "    book_summary.append(i[6])\n",
        "    book_img.append(\"https://cdn.vox-cdn.com/thumbor/HWPOwK-35K4Zkh3_t5Djz8od-jE=/0x86:1192x710/fit-in/1200x630/cdn.vox-cdn.com/uploads/chorus_asset/file/22312759/rickroll_4k.jpg\")\n",
        "\n",
        "df = pd.DataFrame({'Wikipedia Link': book_wiki, 'Book Title': book_title, 'Author': book_author, 'Date of Publication': publication_date, 'Genre': book_genre, 'Raw Summary':book_summary, 'Image URL':book_img})\n",
        "df.head()"
      ],
      "execution_count": 67,
      "outputs": [
        {
          "output_type": "execute_result",
          "data": {
            "text/html": [
              "<div>\n",
              "<style scoped>\n",
              "    .dataframe tbody tr th:only-of-type {\n",
              "        vertical-align: middle;\n",
              "    }\n",
              "\n",
              "    .dataframe tbody tr th {\n",
              "        vertical-align: top;\n",
              "    }\n",
              "\n",
              "    .dataframe thead th {\n",
              "        text-align: right;\n",
              "    }\n",
              "</style>\n",
              "<table border=\"1\" class=\"dataframe\">\n",
              "  <thead>\n",
              "    <tr style=\"text-align: right;\">\n",
              "      <th></th>\n",
              "      <th>Wikipedia Link</th>\n",
              "      <th>Book Title</th>\n",
              "      <th>Author</th>\n",
              "      <th>Date of Publication</th>\n",
              "      <th>Genre</th>\n",
              "      <th>Raw Summary</th>\n",
              "      <th>Image URL</th>\n",
              "    </tr>\n",
              "  </thead>\n",
              "  <tbody>\n",
              "    <tr>\n",
              "      <th>0</th>\n",
              "      <td>https://en.wikipedia.org/?curid=620</td>\n",
              "      <td>Animal Farm</td>\n",
              "      <td>George Orwell</td>\n",
              "      <td>1945-08-17</td>\n",
              "      <td>{\"/m/016lj8\": \"Roman \\u00e0 clef\", \"/m/06nbt\":...</td>\n",
              "      <td>Old Major, the old boar on the Manor Farm, ca...</td>\n",
              "      <td>https://cdn.vox-cdn.com/thumbor/HWPOwK-35K4Zkh...</td>\n",
              "    </tr>\n",
              "    <tr>\n",
              "      <th>1</th>\n",
              "      <td>https://en.wikipedia.org/?curid=843</td>\n",
              "      <td>A Clockwork Orange</td>\n",
              "      <td>Anthony Burgess</td>\n",
              "      <td>1962</td>\n",
              "      <td>{\"/m/06n90\": \"Science Fiction\", \"/m/0l67h\": \"N...</td>\n",
              "      <td>Alex, a teenager living in near-future Englan...</td>\n",
              "      <td>https://cdn.vox-cdn.com/thumbor/HWPOwK-35K4Zkh...</td>\n",
              "    </tr>\n",
              "    <tr>\n",
              "      <th>2</th>\n",
              "      <td>https://en.wikipedia.org/?curid=986</td>\n",
              "      <td>The Plague</td>\n",
              "      <td>Albert Camus</td>\n",
              "      <td>1947</td>\n",
              "      <td>{\"/m/02m4t\": \"Existentialism\", \"/m/02xlf\": \"Fi...</td>\n",
              "      <td>The text of The Plague is divided into five p...</td>\n",
              "      <td>https://cdn.vox-cdn.com/thumbor/HWPOwK-35K4Zkh...</td>\n",
              "    </tr>\n",
              "    <tr>\n",
              "      <th>3</th>\n",
              "      <td>https://en.wikipedia.org/?curid=1756</td>\n",
              "      <td>An Enquiry Concerning Human Understanding</td>\n",
              "      <td>David Hume</td>\n",
              "      <td></td>\n",
              "      <td></td>\n",
              "      <td>The argument of the Enquiry proceeds by a ser...</td>\n",
              "      <td>https://cdn.vox-cdn.com/thumbor/HWPOwK-35K4Zkh...</td>\n",
              "    </tr>\n",
              "    <tr>\n",
              "      <th>4</th>\n",
              "      <td>https://en.wikipedia.org/?curid=2080</td>\n",
              "      <td>A Fire Upon the Deep</td>\n",
              "      <td>Vernor Vinge</td>\n",
              "      <td></td>\n",
              "      <td>{\"/m/03lrw\": \"Hard science fiction\", \"/m/06n90...</td>\n",
              "      <td>The novel posits that space around the Milky ...</td>\n",
              "      <td>https://cdn.vox-cdn.com/thumbor/HWPOwK-35K4Zkh...</td>\n",
              "    </tr>\n",
              "  </tbody>\n",
              "</table>\n",
              "</div>"
            ],
            "text/plain": [
              "                         Wikipedia Link  ...                                          Image URL\n",
              "0   https://en.wikipedia.org/?curid=620  ...  https://cdn.vox-cdn.com/thumbor/HWPOwK-35K4Zkh...\n",
              "1   https://en.wikipedia.org/?curid=843  ...  https://cdn.vox-cdn.com/thumbor/HWPOwK-35K4Zkh...\n",
              "2   https://en.wikipedia.org/?curid=986  ...  https://cdn.vox-cdn.com/thumbor/HWPOwK-35K4Zkh...\n",
              "3  https://en.wikipedia.org/?curid=1756  ...  https://cdn.vox-cdn.com/thumbor/HWPOwK-35K4Zkh...\n",
              "4  https://en.wikipedia.org/?curid=2080  ...  https://cdn.vox-cdn.com/thumbor/HWPOwK-35K4Zkh...\n",
              "\n",
              "[5 rows x 7 columns]"
            ]
          },
          "metadata": {
            "tags": []
          },
          "execution_count": 67
        }
      ]
    },
    {
      "cell_type": "code",
      "metadata": {
        "colab": {
          "base_uri": "https://localhost:8080/",
          "height": 388
        },
        "id": "7SaXbX2xw0LB",
        "outputId": "cbcf3ac0-fb23-44de-8ce7-86ae02fc3d3a"
      },
      "source": [
        "import json\n",
        "import re\n",
        "df.isna().sum()\n",
        "\n",
        "df = df.drop(df[df['Genre'] == ''].index)\n",
        "df = df.drop(df[df['Raw Summary'] == ''].index)\n",
        "\n",
        "\n",
        "genres_cleaned = []\n",
        "for i in df['Genre']:\n",
        "    genres_cleaned.append(list(json.loads(i).values()))\n",
        "df['Genres'] = genres_cleaned\n",
        "\n",
        "def clean_summary(text):\n",
        "    text = re.sub(\"\\'\", \"\", text)\n",
        "    text = re.sub(\"[^a-zA-Z]\",\" \",text)\n",
        "    text = ' '.join(text.split())\n",
        "    text = text.lower()\n",
        "    return text\n",
        "\n",
        "\n",
        "\n",
        "df['Summary'] = df['Raw Summary'].apply(lambda x: clean_summary(x))\n",
        "df.drop(['Raw Summary', 'Genre'], axis=1, inplace=True)\n",
        "df.head()\n"
      ],
      "execution_count": 68,
      "outputs": [
        {
          "output_type": "execute_result",
          "data": {
            "text/html": [
              "<div>\n",
              "<style scoped>\n",
              "    .dataframe tbody tr th:only-of-type {\n",
              "        vertical-align: middle;\n",
              "    }\n",
              "\n",
              "    .dataframe tbody tr th {\n",
              "        vertical-align: top;\n",
              "    }\n",
              "\n",
              "    .dataframe thead th {\n",
              "        text-align: right;\n",
              "    }\n",
              "</style>\n",
              "<table border=\"1\" class=\"dataframe\">\n",
              "  <thead>\n",
              "    <tr style=\"text-align: right;\">\n",
              "      <th></th>\n",
              "      <th>Wikipedia Link</th>\n",
              "      <th>Book Title</th>\n",
              "      <th>Author</th>\n",
              "      <th>Date of Publication</th>\n",
              "      <th>Image URL</th>\n",
              "      <th>Genres</th>\n",
              "      <th>Summary</th>\n",
              "    </tr>\n",
              "  </thead>\n",
              "  <tbody>\n",
              "    <tr>\n",
              "      <th>0</th>\n",
              "      <td>https://en.wikipedia.org/?curid=620</td>\n",
              "      <td>Animal Farm</td>\n",
              "      <td>George Orwell</td>\n",
              "      <td>1945-08-17</td>\n",
              "      <td>https://cdn.vox-cdn.com/thumbor/HWPOwK-35K4Zkh...</td>\n",
              "      <td>[Roman à clef, Satire, Children's literature, ...</td>\n",
              "      <td>old major the old boar on the manor farm calls...</td>\n",
              "    </tr>\n",
              "    <tr>\n",
              "      <th>1</th>\n",
              "      <td>https://en.wikipedia.org/?curid=843</td>\n",
              "      <td>A Clockwork Orange</td>\n",
              "      <td>Anthony Burgess</td>\n",
              "      <td>1962</td>\n",
              "      <td>https://cdn.vox-cdn.com/thumbor/HWPOwK-35K4Zkh...</td>\n",
              "      <td>[Science Fiction, Novella, Speculative fiction...</td>\n",
              "      <td>alex a teenager living in near future england ...</td>\n",
              "    </tr>\n",
              "    <tr>\n",
              "      <th>2</th>\n",
              "      <td>https://en.wikipedia.org/?curid=986</td>\n",
              "      <td>The Plague</td>\n",
              "      <td>Albert Camus</td>\n",
              "      <td>1947</td>\n",
              "      <td>https://cdn.vox-cdn.com/thumbor/HWPOwK-35K4Zkh...</td>\n",
              "      <td>[Existentialism, Fiction, Absurdist fiction, N...</td>\n",
              "      <td>the text of the plague is divided into five pa...</td>\n",
              "    </tr>\n",
              "    <tr>\n",
              "      <th>4</th>\n",
              "      <td>https://en.wikipedia.org/?curid=2080</td>\n",
              "      <td>A Fire Upon the Deep</td>\n",
              "      <td>Vernor Vinge</td>\n",
              "      <td></td>\n",
              "      <td>https://cdn.vox-cdn.com/thumbor/HWPOwK-35K4Zkh...</td>\n",
              "      <td>[Hard science fiction, Science Fiction, Specul...</td>\n",
              "      <td>the novel posits that space around the milky w...</td>\n",
              "    </tr>\n",
              "    <tr>\n",
              "      <th>5</th>\n",
              "      <td>https://en.wikipedia.org/?curid=2152</td>\n",
              "      <td>All Quiet on the Western Front</td>\n",
              "      <td>Erich Maria Remarque</td>\n",
              "      <td>1929-01-29</td>\n",
              "      <td>https://cdn.vox-cdn.com/thumbor/HWPOwK-35K4Zkh...</td>\n",
              "      <td>[War novel, Roman à clef]</td>\n",
              "      <td>the book tells the story of paul b umer a germ...</td>\n",
              "    </tr>\n",
              "  </tbody>\n",
              "</table>\n",
              "</div>"
            ],
            "text/plain": [
              "                         Wikipedia Link  ...                                            Summary\n",
              "0   https://en.wikipedia.org/?curid=620  ...  old major the old boar on the manor farm calls...\n",
              "1   https://en.wikipedia.org/?curid=843  ...  alex a teenager living in near future england ...\n",
              "2   https://en.wikipedia.org/?curid=986  ...  the text of the plague is divided into five pa...\n",
              "4  https://en.wikipedia.org/?curid=2080  ...  the novel posits that space around the milky w...\n",
              "5  https://en.wikipedia.org/?curid=2152  ...  the book tells the story of paul b umer a germ...\n",
              "\n",
              "[5 rows x 7 columns]"
            ]
          },
          "metadata": {
            "tags": []
          },
          "execution_count": 68
        }
      ]
    },
    {
      "cell_type": "code",
      "metadata": {
        "id": "uWDLgfpVtwi7"
      },
      "source": [
        "apikey = ''\n",
        "url = ''\n",
        "from ibm_watson import ToneAnalyzerV3\n",
        "from ibm_cloud_sdk_core.authenticators import IAMAuthenticator\n",
        "authenticator = IAMAuthenticator(apikey)\n",
        "ta = ToneAnalyzerV3(version='2017-09-21', authenticator=authenticator)\n",
        "ta.set_service_url(url)\n",
        "fin = []\n",
        "\n",
        "def get_emotions(text):\n",
        "  try:\n",
        "    res = ta.tone(text).get_result()\n",
        "    res = res['document_tone']['tones']\n",
        "    ans = []\n",
        "    for item in res:\n",
        "      ans.append({item['tone_id']:item['score']})\n",
        "    ans = {'emotions':ans}\n",
        "    fin.append(ans)\n",
        "    return ans\n",
        "  except Exception as e:\n",
        "    ans = {'emotions':[]}\n",
        "    fin.append(ans)\n",
        "    return ans\n",
        "\n",
        "df['Emotions'] = df['Summary'].apply(lambda x: get_emotions(x))"
      ],
      "execution_count": 70,
      "outputs": []
    },
    {
      "cell_type": "code",
      "metadata": {
        "id": "YbSyAwklyIzR"
      },
      "source": [
        "df.to_csv('database.csv')"
      ],
      "execution_count": 71,
      "outputs": []
    },
    {
      "cell_type": "code",
      "metadata": {
        "id": "SuJXpAzWMgGQ"
      },
      "source": [
        "df.to_json('database.json', orient = 'split', compression = 'infer')"
      ],
      "execution_count": 72,
      "outputs": []
    },
    {
      "cell_type": "code",
      "metadata": {
        "colab": {
          "base_uri": "https://localhost:8080/",
          "height": 844
        },
        "id": "Fi0-nq1EM4fC",
        "outputId": "ba5a9456-2871-4f10-d2ab-726d43d07e6a"
      },
      "source": [
        "df.tail(10)"
      ],
      "execution_count": 74,
      "outputs": [
        {
          "output_type": "execute_result",
          "data": {
            "text/html": [
              "<div>\n",
              "<style scoped>\n",
              "    .dataframe tbody tr th:only-of-type {\n",
              "        vertical-align: middle;\n",
              "    }\n",
              "\n",
              "    .dataframe tbody tr th {\n",
              "        vertical-align: top;\n",
              "    }\n",
              "\n",
              "    .dataframe thead th {\n",
              "        text-align: right;\n",
              "    }\n",
              "</style>\n",
              "<table border=\"1\" class=\"dataframe\">\n",
              "  <thead>\n",
              "    <tr style=\"text-align: right;\">\n",
              "      <th></th>\n",
              "      <th>Wikipedia Link</th>\n",
              "      <th>Book Title</th>\n",
              "      <th>Author</th>\n",
              "      <th>Date of Publication</th>\n",
              "      <th>Image URL</th>\n",
              "      <th>Genres</th>\n",
              "      <th>Summary</th>\n",
              "      <th>Emotions</th>\n",
              "    </tr>\n",
              "  </thead>\n",
              "  <tbody>\n",
              "    <tr>\n",
              "      <th>16541</th>\n",
              "      <td>https://en.wikipedia.org/?curid=35916725</td>\n",
              "      <td>Nevermore: The Final Maximum Ride Adventure</td>\n",
              "      <td>James Patterson</td>\n",
              "      <td>2012-08-06</td>\n",
              "      <td>https://cdn.vox-cdn.com/thumbor/HWPOwK-35K4Zkh...</td>\n",
              "      <td>[Young adult literature]</td>\n",
              "      <td>the prologue is angels vision of maxs death th...</td>\n",
              "      <td>{'emotions': [{'sadness': 0.593374}]}</td>\n",
              "    </tr>\n",
              "    <tr>\n",
              "      <th>16542</th>\n",
              "      <td>https://en.wikipedia.org/?curid=35993963</td>\n",
              "      <td>The Bourne Imperative</td>\n",
              "      <td>Robert Ludlum</td>\n",
              "      <td>2012-06-05</td>\n",
              "      <td>https://cdn.vox-cdn.com/thumbor/HWPOwK-35K4Zkh...</td>\n",
              "      <td>[Thriller, Spy fiction]</td>\n",
              "      <td>for a more detailed background of the main cha...</td>\n",
              "      <td>{'emotions': [{'sadness': 0.659248}, {'analyti...</td>\n",
              "    </tr>\n",
              "    <tr>\n",
              "      <th>16544</th>\n",
              "      <td>https://en.wikipedia.org/?curid=36126507</td>\n",
              "      <td>Heaven</td>\n",
              "      <td>V. C. Andrews</td>\n",
              "      <td>1985-10-15</td>\n",
              "      <td>https://cdn.vox-cdn.com/thumbor/HWPOwK-35K4Zkh...</td>\n",
              "      <td>[Gothic fiction, Young adult literature, Fiction]</td>\n",
              "      <td>heaven leigh casteel is a fourteen year old gi...</td>\n",
              "      <td>{'emotions': [{'sadness': 0.87905}]}</td>\n",
              "    </tr>\n",
              "    <tr>\n",
              "      <th>16545</th>\n",
              "      <td>https://en.wikipedia.org/?curid=36126601</td>\n",
              "      <td>Dark Angel</td>\n",
              "      <td>V. C. Andrews</td>\n",
              "      <td>1986-11</td>\n",
              "      <td>https://cdn.vox-cdn.com/thumbor/HWPOwK-35K4Zkh...</td>\n",
              "      <td>[Gothic fiction, Young adult literature]</td>\n",
              "      <td>after the events of heaven the first book in t...</td>\n",
              "      <td>{'emotions': [{'sadness': 0.792429}]}</td>\n",
              "    </tr>\n",
              "    <tr>\n",
              "      <th>16546</th>\n",
              "      <td>https://en.wikipedia.org/?curid=36126792</td>\n",
              "      <td>Gates of Paradise</td>\n",
              "      <td>V. C. Andrews</td>\n",
              "      <td>1989-06</td>\n",
              "      <td>https://cdn.vox-cdn.com/thumbor/HWPOwK-35K4Zkh...</td>\n",
              "      <td>[Gothic fiction, Young adult literature]</td>\n",
              "      <td>a novel about annie stonewall the daughter of ...</td>\n",
              "      <td>{'emotions': [{'sadness': 0.526255}]}</td>\n",
              "    </tr>\n",
              "    <tr>\n",
              "      <th>16549</th>\n",
              "      <td>https://en.wikipedia.org/?curid=36372465</td>\n",
              "      <td>The Third Lynx</td>\n",
              "      <td>Timothy Zahn</td>\n",
              "      <td>2007</td>\n",
              "      <td>https://cdn.vox-cdn.com/thumbor/HWPOwK-35K4Zkh...</td>\n",
              "      <td>[Science Fiction]</td>\n",
              "      <td>the story starts with former government agent ...</td>\n",
              "      <td>{'emotions': [{'fear': 0.762139}]}</td>\n",
              "    </tr>\n",
              "    <tr>\n",
              "      <th>16551</th>\n",
              "      <td>https://en.wikipedia.org/?curid=36534061</td>\n",
              "      <td>Remote Control</td>\n",
              "      <td>Andy McNab</td>\n",
              "      <td>1997</td>\n",
              "      <td>https://cdn.vox-cdn.com/thumbor/HWPOwK-35K4Zkh...</td>\n",
              "      <td>[Thriller, Fiction, Suspense]</td>\n",
              "      <td>the series follows the character of nick stone...</td>\n",
              "      <td>{'emotions': [{'sadness': 0.718305}, {'analyti...</td>\n",
              "    </tr>\n",
              "    <tr>\n",
              "      <th>16555</th>\n",
              "      <td>https://en.wikipedia.org/?curid=37054020</td>\n",
              "      <td>Transfer of Power</td>\n",
              "      <td>Vince Flynn</td>\n",
              "      <td>2000-06-01</td>\n",
              "      <td>https://cdn.vox-cdn.com/thumbor/HWPOwK-35K4Zkh...</td>\n",
              "      <td>[Thriller, Fiction]</td>\n",
              "      <td>the reader first meets rapp while he is doing ...</td>\n",
              "      <td>{'emotions': []}</td>\n",
              "    </tr>\n",
              "    <tr>\n",
              "      <th>16556</th>\n",
              "      <td>https://en.wikipedia.org/?curid=37122323</td>\n",
              "      <td>Decoded</td>\n",
              "      <td>Jay-Z</td>\n",
              "      <td>2010-11-16</td>\n",
              "      <td>https://cdn.vox-cdn.com/thumbor/HWPOwK-35K4Zkh...</td>\n",
              "      <td>[Autobiography]</td>\n",
              "      <td>the book follows very rough chronological orde...</td>\n",
              "      <td>{'emotions': [{'sadness': 0.512098}, {'analyti...</td>\n",
              "    </tr>\n",
              "    <tr>\n",
              "      <th>16558</th>\n",
              "      <td>https://en.wikipedia.org/?curid=37159503</td>\n",
              "      <td>Poor Folk</td>\n",
              "      <td>Fyodor Dostoyevsky</td>\n",
              "      <td>1846</td>\n",
              "      <td>https://cdn.vox-cdn.com/thumbor/HWPOwK-35K4Zkh...</td>\n",
              "      <td>[Epistolary novel, Speculative fiction]</td>\n",
              "      <td>makar devushkin and varvara dobroselova are se...</td>\n",
              "      <td>{'emotions': [{'sadness': 0.927617}, {'analyti...</td>\n",
              "    </tr>\n",
              "  </tbody>\n",
              "</table>\n",
              "</div>"
            ],
            "text/plain": [
              "                                 Wikipedia Link  ...                                           Emotions\n",
              "16541  https://en.wikipedia.org/?curid=35916725  ...              {'emotions': [{'sadness': 0.593374}]}\n",
              "16542  https://en.wikipedia.org/?curid=35993963  ...  {'emotions': [{'sadness': 0.659248}, {'analyti...\n",
              "16544  https://en.wikipedia.org/?curid=36126507  ...               {'emotions': [{'sadness': 0.87905}]}\n",
              "16545  https://en.wikipedia.org/?curid=36126601  ...              {'emotions': [{'sadness': 0.792429}]}\n",
              "16546  https://en.wikipedia.org/?curid=36126792  ...              {'emotions': [{'sadness': 0.526255}]}\n",
              "16549  https://en.wikipedia.org/?curid=36372465  ...                 {'emotions': [{'fear': 0.762139}]}\n",
              "16551  https://en.wikipedia.org/?curid=36534061  ...  {'emotions': [{'sadness': 0.718305}, {'analyti...\n",
              "16555  https://en.wikipedia.org/?curid=37054020  ...                                   {'emotions': []}\n",
              "16556  https://en.wikipedia.org/?curid=37122323  ...  {'emotions': [{'sadness': 0.512098}, {'analyti...\n",
              "16558  https://en.wikipedia.org/?curid=37159503  ...  {'emotions': [{'sadness': 0.927617}, {'analyti...\n",
              "\n",
              "[10 rows x 8 columns]"
            ]
          },
          "metadata": {
            "tags": []
          },
          "execution_count": 74
        }
      ]
    }
  ]
}
